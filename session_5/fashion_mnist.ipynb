{
 "cells": [
  {
   "cell_type": "markdown",
   "id": "be168a31",
   "metadata": {},
   "source": [
    "# Can we identify clothes?\n",
    "\n",
    "In this exercise we explore a computer vision task called Fashion MNIST. This dataset contains black-and-white images of clothing. The objective is to gain high test accuracy in classifying these images using a convolutional neural network."
   ]
  },
  {
   "cell_type": "code",
   "execution_count": null,
   "id": "a214f3ff",
   "metadata": {},
   "outputs": [],
   "source": [
    "import matplotlib.pyplot as plt\n",
    "import numpy as np\n",
    "import tensorflow as tf\n",
    "\n",
    "(x_train, y_train), (x_test, y_test) = tf.keras.datasets.fashion_mnist.load_data()\n",
    "\n",
    "random_gen = np.random.default_rng()\n",
    "random_numbers = random_gen.integers(low=0, high=x_train.shape[0], size=9)\n",
    "\n",
    "plt.figure(figsize=(5,5))\n",
    "for idx, example in enumerate(random_numbers):\n",
    "    plt.subplot(3, 3, idx+1)\n",
    "    plt.imshow(x_train[example, :, :], cmap='gray')\n",
    "\n",
    "x_train = x_train.astype(\"float32\") / 255\n",
    "x_test = x_test.astype(\"float32\") / 255\n",
    "num_classes = 10\n",
    "y_train = tf.keras.utils.to_categorical(y_train, num_classes)\n",
    "y_test = tf.keras.utils.to_categorical(y_test, num_classes)\n"
   ]
  },
  {
   "cell_type": "code",
   "execution_count": null,
   "id": "fc8ceefc",
   "metadata": {},
   "outputs": [],
   "source": [
    "NUM_CONV_LAYERS = 1\n",
    "KERNEL_SIZE = (3, 3)\n",
    "NUM_MLP_LAYERS = 1\n",
    "NUM_MLP_UNITS = 1\n",
    "NUM_EPOCHS = 5\n",
    "DROPOUT = 0.1 # usually less than 0.5\n",
    "REG_COEFFICIENT = 0.001 # Usually less than 0.001\n",
    "\n",
    "\n",
    "# -- DO NOT TOUCH -- #\n",
    "x_train_conv = np.expand_dims(x_train, -1)\n",
    "x_test_conv = np.expand_dims(x_test, -1)\n",
    "\n",
    "\n",
    "inputs = tf.keras.Input(shape=x_train_conv.shape[1:])\n",
    "output = inputs\n",
    "for _ in range(NUM_CONV_LAYERS):\n",
    "    output = tf.keras.layers.Conv2D(\n",
    "        filters=32,\n",
    "        kernel_size=KERNEL_SIZE,\n",
    "        padding='same',\n",
    "        activation='relu',\n",
    "    )(output)\n",
    "\n",
    "output = tf.keras.layers.Flatten(input_shape=x_train.shape[1:])(output)\n",
    "for _ in range(NUM_MLP_LAYERS):\n",
    "    output = tf.keras.layers.Dense(\n",
    "        units=NUM_MLP_UNITS,\n",
    "        activation='relu'\n",
    "    )(output)\n",
    "    output = tf.keras.layers.Dropout(DROPOUT)(output)\n",
    "\n",
    "output = tf.keras.layers.Dense(\n",
    "    units=y_test.shape[1],\n",
    "    activation='softmax'\n",
    ")(output)\n",
    "model = tf.keras.Model(inputs, output)\n",
    "model.compile(\n",
    "    optimizer='adam',\n",
    "    loss=\"categorical_crossentropy\",\n",
    "    metrics=['accuracy']\n",
    ")\n",
    "\n",
    "model.summary()\n",
    "history = model.fit(x_train_conv, y_train, epochs=NUM_EPOCHS)\n",
    "test_metrics = model.evaluate(x_test_conv, y_test)\n",
    "\n",
    "plt.figure(figsize=(5, 5))\n",
    "plt.plot(np.arange(NUM_EPOCHS), np.array(history.history['accuracy']) * 100)\n",
    "plt.title(\n",
    "    \"Model accuracy v. epochs of training\\n\"\n",
    "    f\"Train Acc={round(history.history['accuracy'][-1]*100, 4)}%, Test Acc={round(test_metrics[1]*100, 4)}%\"\n",
    ")\n",
    "plt.xlabel(\"Epoch\")\n",
    "plt.ylabel(\"Training accuracy (%)\")\n"
   ]
  },
  {
   "cell_type": "code",
   "execution_count": null,
   "id": "a558ba70",
   "metadata": {},
   "outputs": [],
   "source": []
  }
 ],
 "metadata": {
  "kernelspec": {
   "display_name": "ml-workshop-env",
   "language": "python",
   "name": "ml-workshop-env"
  },
  "language_info": {
   "codemirror_mode": {
    "name": "ipython",
    "version": 3
   },
   "file_extension": ".py",
   "mimetype": "text/x-python",
   "name": "python",
   "nbconvert_exporter": "python",
   "pygments_lexer": "ipython3",
   "version": "3.10.6"
  }
 },
 "nbformat": 4,
 "nbformat_minor": 5
}

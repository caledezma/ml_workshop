{
 "cells": [
  {
   "cell_type": "markdown",
   "id": "a2937551",
   "metadata": {},
   "source": [
    "# Test your installation\n",
    "\n",
    "Use this notebook to make sure that your computer can run everything that you will need for the workshop. Every cell in this notebook should run successfully."
   ]
  },
  {
   "cell_type": "code",
   "execution_count": null,
   "id": "228377f2",
   "metadata": {},
   "outputs": [],
   "source": [
    "import matplotlib.pyplot as plt\n",
    "import numpy as np\n",
    "import tensorflow as tf\n",
    "import pandas as pd"
   ]
  },
  {
   "cell_type": "code",
   "execution_count": null,
   "id": "87e0080f",
   "metadata": {},
   "outputs": [],
   "source": [
    "NUM_SAMPLES = 1000\n",
    "SLOPE = 5\n",
    "CUTOFF = 1\n",
    "\n",
    "random_generator = np.random.default_rng(seed=20)\n",
    "features = random_generator.uniform(low=-100, high=100, size=NUM_SAMPLES)\n",
    "random_noise = random_generator.normal(loc=0, scale=100, size=NUM_SAMPLES)\n",
    "targets = SLOPE * features + CUTOFF + random_noise\n",
    "\n",
    "print(features.shape, targets.shape)\n",
    "\n",
    "plt.figure(figsize=(5,5))\n",
    "plt.scatter(features, targets)\n",
    "plt.xlabel(\"Feature value\")\n",
    "plt.ylabel(\"Target value\")"
   ]
  },
  {
   "cell_type": "code",
   "execution_count": null,
   "id": "a2c6518b",
   "metadata": {},
   "outputs": [],
   "source": [
    "NUM_EPOCHS = 64\n",
    "input_ = tf.keras.Input(shape=(1,))\n",
    "out = tf.keras.layers.Dense(units=10, activation='relu')(input_)\n",
    "out = tf.keras.layers.Dense(units=1, activation='linear')(out)\n",
    "model = tf.keras.Model(inputs=input_, outputs=out)\n",
    "model.compile(optimizer='adam', loss='mae')\n",
    "history = model.fit(x=features, y=targets, batch_size=64, epochs=NUM_EPOCHS, shuffle=True, verbose=0)\n",
    "print(model.summary())\n",
    "plt.figure(figsize=(5,5))\n",
    "plt.plot(np.arange(NUM_EPOCHS), history.history['loss'])"
   ]
  },
  {
   "cell_type": "code",
   "execution_count": null,
   "id": "e8858c05",
   "metadata": {},
   "outputs": [],
   "source": []
  }
 ],
 "metadata": {
  "kernelspec": {
   "display_name": "ml-wokrkshop-1",
   "language": "python",
   "name": "ml-wokrkshop-1"
  },
  "language_info": {
   "codemirror_mode": {
    "name": "ipython",
    "version": 3
   },
   "file_extension": ".py",
   "mimetype": "text/x-python",
   "name": "python",
   "nbconvert_exporter": "python",
   "pygments_lexer": "ipython3",
   "version": "3.10.6"
  }
 },
 "nbformat": 4,
 "nbformat_minor": 5
}

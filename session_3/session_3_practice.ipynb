{
 "cells": [
  {
   "cell_type": "markdown",
   "id": "3603ffe6",
   "metadata": {},
   "source": [
    "# Practical session 3\n",
    "\n",
    "Introducing the idea of non-linear relationships"
   ]
  },
  {
   "cell_type": "code",
   "execution_count": null,
   "id": "43c40872",
   "metadata": {},
   "outputs": [],
   "source": [
    "import pandas as pd\n",
    "import matplotlib.pyplot as plt\n",
    "import numpy as np\n",
    "\n",
    "data = pd.read_csv(\"computer_responses.csv\")\n",
    "input_1 = data['x'].to_numpy()\n",
    "input_2 = data['y'].to_numpy()\n",
    "response = data['z'].to_numpy()\n",
    "\n",
    "plt.figure(figsize=(10,10))\n",
    "plt.scatter(input_1[response==0], input_2[response==0], marker=\"o\", s=1, label=\"0\")\n",
    "plt.scatter(input_1[response==1], input_2[response==1], marker=\"o\", s=1, label=\"1\")\n",
    "plt.xlabel(\"Input 1\")\n",
    "plt.ylabel(\"Input 2\")\n",
    "plt.legend(title=\"Response\")\n"
   ]
  },
  {
   "cell_type": "code",
   "execution_count": null,
   "id": "353a93c8",
   "metadata": {
    "scrolled": false
   },
   "outputs": [],
   "source": [
    "import matplotlib.pyplot as plt\n",
    "import tensorflow as tf\n",
    "\n",
    "## -- Choose how many times you would like the model to see the data -- ##\n",
    "NUM_EPOCHS = 10\n",
    "\n",
    "## -- DO NOT TOUCH -- ##\n",
    "input_ = tf.keras.Input(shape=2)\n",
    "## -- DO NOT TOUCH -- ##\n",
    "\n",
    "## -- Add your layers here -- ##\n",
    "\n",
    "output = tf.keras.layers.Dense(units=1, activation='sigmoid')(input_)\n",
    "\n",
    "## -- End of layers -- ##\n",
    "\n",
    "## -- DO NOT TOUCH -- ##\n",
    "output = tf.keras.layers.Dense(units=1, activation='sigmoid')(output)\n",
    "model = tf.keras.Model(input_, [output])\n",
    "model.compile(\n",
    "    optimizer=tf.keras.optimizers.Adam(learning_rate=0.01),\n",
    "    loss='binary_crossentropy',\n",
    "    metrics=[\"accuracy\"],\n",
    ")\n",
    "history = model.fit(\n",
    "    x=np.concatenate([np.atleast_2d(input_1), np.atleast_2d(input_2)], axis=0).T,\n",
    "    y=response,\n",
    "    epochs=NUM_EPOCHS,\n",
    "    batch_size=32,\n",
    "    verbose=2,\n",
    ")\n",
    "\n",
    "plt.figure(figsize=(10,10))\n",
    "plt.plot(np.arange(NUM_EPOCHS), np.array(history.history['accuracy']) * 100)\n",
    "plt.title(\"Model accuracy v. epochs of training\")\n",
    "plt.xlabel(\"Epoch\")\n",
    "plt.ylabel(\"Accuracy (%)\")\n",
    "## -- DO NOT TOUCH -- ##\n"
   ]
  },
  {
   "cell_type": "code",
   "execution_count": null,
   "id": "bb682f92",
   "metadata": {},
   "outputs": [],
   "source": []
  }
 ],
 "metadata": {
  "kernelspec": {
   "display_name": "ml-workshop-env",
   "language": "python",
   "name": "ml-workshop-env"
  },
  "language_info": {
   "codemirror_mode": {
    "name": "ipython",
    "version": 3
   },
   "file_extension": ".py",
   "mimetype": "text/x-python",
   "name": "python",
   "nbconvert_exporter": "python",
   "pygments_lexer": "ipython3",
   "version": "3.10.6"
  }
 },
 "nbformat": 4,
 "nbformat_minor": 5
}

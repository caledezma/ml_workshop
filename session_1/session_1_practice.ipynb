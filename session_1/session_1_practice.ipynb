{
 "cells": [
  {
   "cell_type": "markdown",
   "id": "f3d2dc6a",
   "metadata": {},
   "source": [
    "# Practical session 1\n",
    "\n",
    "In this session we will explore the general concept of creating a mathematical model.\n",
    "\n",
    "A mathematical model is an equation that captures the relationship between one set of variables (the inputs) and another (the outputs). These variables are typically things that we can observe, measure and/or categorise and we express in numbers. We normally create models because we are interested in knowing the value of the outputs for a given set of inputs.\n",
    "\n"
   ]
  },
  {
   "cell_type": "markdown",
   "id": "f688b350",
   "metadata": {},
   "source": [
    "## Practical exercise 1: a simple linear correlation\n",
    "\n",
    "In this session we will explore the simple case of one input and one output to get used to expressing things in equations. In this first exercise, we will use the heights and weights datasets that can be found in Kaggle (https://www.kaggle.com/datasets/burnoutminer/heights-and-weights-dataset).\n",
    "\n",
    "Imagine the following question: given a person's height, what would you say is their weight?\n",
    "\n",
    "To answer it, and given the historical data, we can create a mathematical model that tells us what is the relationship between height and weight. Then, we can use this model to try to predict a person's weight, given their height.\n",
    "\n",
    "The following cell will show you what this data looks like."
   ]
  },
  {
   "cell_type": "code",
   "execution_count": null,
   "id": "ef896a8b",
   "metadata": {},
   "outputs": [],
   "source": [
    "import matplotlib.pyplot as plt\n",
    "import pandas as pd\n",
    "\n",
    "data = pd.read_csv(\"heights_weights.csv\")\n",
    "height = data[\"Height(Inches)\"].to_numpy()\n",
    "weight = data[\"Weight(Pounds)\"].to_numpy()\n",
    "\n",
    "plt.figure(figsize=(10,10))\n",
    "plt.scatter(height, weight, s=1)\n",
    "plt.xlabel(\"Height [Inches]\")\n",
    "plt.ylabel(\"Weight [Pounds]\")"
   ]
  },
  {
   "cell_type": "markdown",
   "id": "a12caa12",
   "metadata": {},
   "source": [
    "We are going to use a very simple mathematical model to try to explain the relationship between height and weight: a linear model.\n",
    "\n",
    "A linear model is defined by two parameters:\n",
    "- a_1: tells the model \"how fast\" the output grows with respect to the input, this is called the slope.\n",
    "- a_0: tells the model what is the value of the output when the input is 0, this is called the cutoff point.\n",
    "\n",
    "And a whole the whole family of linear models is:\n",
    "\n",
    "y = a_0 + a_1*x\n",
    "\n",
    "A single value for a_0 and a_1 gives you one linear model in that family of models.\n",
    "\n",
    "A linear model between height and weight is defined by saying x=Height and y=Weight:\n",
    "\n",
    "Weight = SLOPE * Height + CUTOFF_POINT\n",
    "\n",
    "In the cell below you can set a value for the slope and another for the cutoff point. It will overlay your model (a yellow line) on top of the data presented before. Try to find the best fitting model and record the values for the slope and the cutoff point of your model."
   ]
  },
  {
   "cell_type": "code",
   "execution_count": null,
   "id": "064b5ee5",
   "metadata": {},
   "outputs": [],
   "source": [
    "## -- Your parameters here -- ##\n",
    "\n",
    "SLOPE = \n",
    "CUTOFF = \n",
    "\n",
    "\n",
    "## --- NO EDIT START --- ##\n",
    "\n",
    "import numpy as np\n",
    "import numpy.typing as npt\n",
    "def linear_model(\n",
    "    a: float,\n",
    "    b: float,\n",
    "    x: npt.NDArray[np.float_]\n",
    "):\n",
    "    \"\"\"Return x + b\"\"\"\n",
    "    return a * x + b\n",
    "\n",
    "x_vals = np.linspace(height.min(), height.max(), height.size)\n",
    "y_vals = linear_model(\n",
    "    a=SLOPE,\n",
    "    b=CUTOFF,\n",
    "    x=x_vals,\n",
    ")\n",
    "plt.figure(figsize=(10,10))\n",
    "plt.scatter(height, weight, s=1, label=\"data\")\n",
    "plt.plot(x_vals, y_vals, 'y', label=\"model\")\n",
    "plt.xlabel(\"Height [Inches]\")\n",
    "plt.ylabel(\"Weight [Pounds]\")\n",
    "plt.legend()\n",
    "\n",
    "## --- NO EDIT END --- ##"
   ]
  },
  {
   "cell_type": "markdown",
   "id": "7e5072ae",
   "metadata": {},
   "source": [
    "## Practical exercise 2: an intergalactic experiment\n",
    "\n",
    "Imagine that you are a scientist, and you are measuring the distance that an object travels in free fall for a given amount of time. You would like to gather some empirical evidence, so you let a ball drop for different amounts of time. However, you have limited time to do your experiments, your instruments are noisy and the weather conditions change a lot, so you take 25000 data points by measuring the time traveled (between 30 and 60 seconds) and the distance traveled by a ball.\n",
    "\n",
    "Armed with this data, you want to create a model that will then allow you to predict what will be the distance travelled by the ball if left to fall for different amounts of time.\n",
    "\n",
    "By running the cell below you can observe the data that you have collected."
   ]
  },
  {
   "cell_type": "code",
   "execution_count": null,
   "id": "77a31a41",
   "metadata": {},
   "outputs": [],
   "source": [
    "import matplotlib.pyplot as plt\n",
    "import pandas as pd\n",
    "\n",
    "data = pd.read_csv(\"free_fall.csv\")\n",
    "time = data[\"time\"].to_numpy()\n",
    "distance_travelled = data[\"distance\"].to_numpy()\n",
    "\n",
    "plt.figure(figsize=(10,10))\n",
    "plt.scatter(time, distance_travelled, s=1)\n",
    "plt.xlabel(\"Time [seconds]\")\n",
    "plt.ylabel(\"Distanced travelled [meters]\")"
   ]
  },
  {
   "cell_type": "markdown",
   "id": "aa919564",
   "metadata": {},
   "source": [
    "Unlike in the exercise before, we can see that the relationship between distance and time is not linear. Instead, it seems to have a curvature. Lucky for us, we also know a family of models that allows us to describe that curvature. This is the family of quadratic models:\n",
    "\n",
    "y = a_0 + a_1*x + a_2 * x^2\n",
    "\n",
    "As you can see from the formula above, one model in that family is now defined by three parameters: a_0, a_1 and a_2. In general, models with more parameters allow us to represent more complex relationships between inputs and outputs.\n",
    "\n",
    "In the following cell, repeat the exercise from above but now trying to find a good quadratic model that describes the relationship between time and distance travelled in free fall!"
   ]
  },
  {
   "cell_type": "code",
   "execution_count": null,
   "id": "81430d87",
   "metadata": {},
   "outputs": [],
   "source": [
    "## -- Your parameters here -- ##\n",
    "\n",
    "A_0 = \n",
    "A_1 = \n",
    "A_2 = \n",
    "\n",
    "\n",
    "## --- NO EDIT START --- ##\n",
    "\n",
    "import numpy as np\n",
    "import numpy.typing as npt\n",
    "def quadratic_model(\n",
    "    a_0: float,\n",
    "    a_1: float,\n",
    "    a_2: float,\n",
    "    x: npt.NDArray[np.float_]\n",
    "):\n",
    "    \"\"\"Return x + b\"\"\"\n",
    "    return a_0 + a_1 * x + a_2 * x**2\n",
    "\n",
    "x_vals = np.linspace(time.min(), time.max(), time.size)\n",
    "y_vals = quadratic_model(\n",
    "    a_0=A_0,\n",
    "    a_1=A_1,\n",
    "    a_2=A_2,\n",
    "    x=x_vals,\n",
    ")\n",
    "plt.figure(figsize=(10,10))\n",
    "plt.scatter(time, distance_travelled, s=1, label=\"data\")\n",
    "plt.plot(x_vals, y_vals, 'y', label=\"model\")\n",
    "plt.xlabel(\"Time [seconds]\")\n",
    "plt.ylabel(\"Distance Travelled [meters]\")\n",
    "plt.legend()\n",
    "\n",
    "## --- NO EDIT END --- ##"
   ]
  },
  {
   "cell_type": "markdown",
   "id": "c3eca1b9",
   "metadata": {},
   "source": [
    "### Bonus question 1\n",
    "\n",
    "In what planet were these measurements made?\n",
    "\n",
    "### Bonus question 2\n",
    "\n",
    "What would happen if I used a quadratic model for the first exercise?"
   ]
  },
  {
   "cell_type": "code",
   "execution_count": null,
   "id": "533f113c",
   "metadata": {},
   "outputs": [],
   "source": []
  }
 ],
 "metadata": {
  "kernelspec": {
   "display_name": "ml-workshop-env",
   "language": "python",
   "name": "ml-workshop-env"
  },
  "language_info": {
   "codemirror_mode": {
    "name": "ipython",
    "version": 3
   },
   "file_extension": ".py",
   "mimetype": "text/x-python",
   "name": "python",
   "nbconvert_exporter": "python",
   "pygments_lexer": "ipython3",
   "version": "3.10.6"
  }
 },
 "nbformat": 4,
 "nbformat_minor": 5
}
